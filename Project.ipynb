{
 "cells": [
  {
   "cell_type": "code",
   "execution_count": 1,
   "metadata": {},
   "outputs": [],
   "source": [
    "from PyQt5.QtWidgets import QWidget, QApplication, QDesktopWidget\n",
    "from PyQt5.QtGui import QPainter, QColor\n",
    "from PyQt5.QtCore import Qt, QBasicTimer, QPoint\n",
    "import sys, random as r\n",
    "from extras import move\n",
    "\n",
    "from player import Robot\n",
    "\n",
    "bullets = []\n",
    "robotList = []"
   ]
  },
  {
   "cell_type": "code",
   "execution_count": 2,
   "metadata": {},
   "outputs": [],
   "source": [
    "class Example(QWidget):\n",
    "    \n",
    "    def __init__(self):\n",
    "        super().__init__()\n",
    "        \n",
    "        self.initUI()\n",
    "        \n",
    "        self.time = QBasicTimer()\n",
    "        self.time.start(10, self)\n",
    "        \n",
    "    def initUI(self):      \n",
    "        \n",
    "        self.angle = 0\n",
    "        screen = QDesktopWidget().screenGeometry()\n",
    "        self.sWidth = 3*screen.width()/4\n",
    "        self.sHeight = 3*screen.height()/4\n",
    "        #self.setGeometry(0,35,screen.width(),screen.height()-100)\n",
    "        \n",
    "        self.setGeometry(0,35,self.sWidth, self.sHeight)\n",
    "        self.setWindowTitle('Points')\n",
    "        self.show()\n",
    "               \n",
    "\n",
    "    def paintEvent(self, e):\n",
    "\n",
    "        qp = QPainter()\n",
    "        qp.begin(self)\n",
    "        \n",
    "        \n",
    "        \n",
    "        \n",
    "        self.drawPoints(qp)\n",
    "        qp.end()\n",
    "        \n",
    "        \n",
    "    def drawPoints(self, qp):\n",
    "      \n",
    "        size = self.size()\n",
    "        qp.fillRect(0, 0, self.sWidth, self.sHeight, QColor(0,0,0))\n",
    "        for i in robotList:\n",
    "            if not i.dead:\n",
    "                i.update(r.randrange(10), r.randrange(10), r.randrange(10), r.randrange(10), r.randrange(10), bullets)\n",
    "            \n",
    "            qp.setPen(Qt.red)\n",
    "            qp.drawEllipse(i.x-20, i.y-20, 40, 40)\n",
    "            \n",
    "            x, y = move(i.x, i.y, i.angle+30, 15)\n",
    "            qp.drawEllipse(x-3, y-3, 3, 3)\n",
    "            x, y = move(i.x, i.y, i.angle-30, 15)\n",
    "            qp.drawEllipse(x-3, y-3, 3, 3)\n",
    "            x, y = move(i.x, i.y, i.angle+10, 15)\n",
    "            qp.drawEllipse(x-3, y-3, 3, 3)\n",
    "            x, y = move(i.x, i.y, i.angle-10, 15)\n",
    "            qp.drawEllipse(x-3, y-3, 3, 3)\n",
    "            x, y = move(i.x, i.y, i.angle+40, 10)\n",
    "            qp.drawEllipse(x-3, y-3, 3, 3)\n",
    "            x, y = move(i.x, i.y, i.angle-40, 10)\n",
    "            qp.drawEllipse(x-3, y-3, 3, 3)\n",
    "            x, y = move(i.x, i.y, i.angle+10, 10)\n",
    "            qp.drawEllipse(x-3, y-3, 3, 3)\n",
    "            x, y = move(i.x, i.y, i.angle-10, 10)\n",
    "            qp.drawEllipse(x-3, y-3, 3, 3)\n",
    "        \n",
    "        if bullets:\n",
    "            for i in bullets:\n",
    "                if not i.dead:\n",
    "                    i.update(robotList)\n",
    "                \n",
    "                qp.setPen(Qt.green)\n",
    "                qp.drawEllipse(i.x-5, i.y-5, 10, 10)\n",
    "        \n",
    "    def keyPressEvent(self, e):\n",
    "        pressed = e.key()\n",
    "        \n",
    "        if pressed == Qt.Key_Up:\n",
    "            self.angle += 100\n",
    "        \n",
    "    def timerEvent(self, e):\n",
    "\n",
    "        self.repaint()"
   ]
  },
  {
   "cell_type": "code",
   "execution_count": 3,
   "metadata": {},
   "outputs": [
    {
     "ename": "SystemExit",
     "evalue": "0",
     "output_type": "error",
     "traceback": [
      "An exception has occurred, use %tb to see the full traceback.\n",
      "\u001b[1;31mSystemExit\u001b[0m\u001b[1;31m:\u001b[0m 0\n"
     ]
    },
    {
     "name": "stderr",
     "output_type": "stream",
     "text": [
      "C:\\Users\\taran\\Anaconda3\\lib\\site-packages\\IPython\\core\\interactiveshell.py:3275: UserWarning: To exit: use 'exit', 'quit', or Ctrl-D.\n",
      "  warn(\"To exit: use 'exit', 'quit', or Ctrl-D.\", stacklevel=1)\n"
     ]
    }
   ],
   "source": [
    "app = QApplication(sys.argv)\n",
    "\n",
    "screen = QDesktopWidget().screenGeometry()\n",
    "sWidth = 3*screen.width()/4\n",
    "sHeight = 3*screen.height()/4\n",
    "for i in range (10):\n",
    "    color = (r.randrange(255), r.randrange(255), r.randrange(255))\n",
    "    robotList.append(Robot(r.randrange(50, 1000), r.randrange(50, 750), color, 2, 2, sWidth, sHeight))        \n",
    "    \n",
    "ex = Example()\n",
    "sys.exit(app.exec_())"
   ]
  },
  {
   "cell_type": "code",
   "execution_count": null,
   "metadata": {},
   "outputs": [],
   "source": []
  }
 ],
 "metadata": {
  "kernelspec": {
   "display_name": "Python 3",
   "language": "python",
   "name": "python3"
  },
  "language_info": {
   "codemirror_mode": {
    "name": "ipython",
    "version": 3
   },
   "file_extension": ".py",
   "mimetype": "text/x-python",
   "name": "python",
   "nbconvert_exporter": "python",
   "pygments_lexer": "ipython3",
   "version": "3.7.1"
  }
 },
 "nbformat": 4,
 "nbformat_minor": 2
}
