{
 "cells": [
  {
   "cell_type": "code",
   "execution_count": 1,
   "metadata": {},
   "outputs": [],
   "source": [
    "from PyQt5.QtWidgets import QWidget, QApplication, QDesktopWidget\n",
    "from PyQt5.QtGui import QPainter, QColor\n",
    "from PyQt5.QtCore import Qt, QBasicTimer, QPoint\n",
    "import sys, random\n",
    "from extras import move\n"
   ]
  },
  {
   "cell_type": "code",
   "execution_count": 2,
   "metadata": {},
   "outputs": [
    {
     "ename": "SystemExit",
     "evalue": "0",
     "output_type": "error",
     "traceback": [
      "An exception has occurred, use %tb to see the full traceback.\n",
      "\u001b[1;31mSystemExit\u001b[0m\u001b[1;31m:\u001b[0m 0\n"
     ]
    },
    {
     "name": "stderr",
     "output_type": "stream",
     "text": [
      "C:\\Users\\taran\\Anaconda3\\lib\\site-packages\\IPython\\core\\interactiveshell.py:3275: UserWarning: To exit: use 'exit', 'quit', or Ctrl-D.\n",
      "  warn(\"To exit: use 'exit', 'quit', or Ctrl-D.\", stacklevel=1)\n"
     ]
    }
   ],
   "source": [
    "class Example(QWidget):\n",
    "    \n",
    "    def __init__(self):\n",
    "        super().__init__()\n",
    "        \n",
    "        self.initUI()\n",
    "        \n",
    "        self.time = QBasicTimer()\n",
    "        self.time.start(10, self)\n",
    "        \n",
    "    def initUI(self):      \n",
    "        \n",
    "        self.angle = 0\n",
    "        screen = QDesktopWidget().screenGeometry()\n",
    "        self.sWidth = 3*screen.width()/4\n",
    "        self.sHeight = 3*screen.height()/4\n",
    "        #self.setGeometry(0,35,screen.width(),screen.height()-100)\n",
    "        \n",
    "        self.setGeometry(0,35,self.sWidth, self.sHeight)\n",
    "        self.setWindowTitle('Points')\n",
    "        self.show()\n",
    "               \n",
    "\n",
    "    def paintEvent(self, e):\n",
    "\n",
    "        qp = QPainter()\n",
    "        qp.begin(self)\n",
    "        self.drawPoints(qp)\n",
    "        qp.end()\n",
    "        \n",
    "        \n",
    "    def drawPoints(self, qp):\n",
    "      \n",
    "        qp.setPen(Qt.red)\n",
    "        size = self.size()\n",
    "        \n",
    "        qp.fillRect(0, 0, self.sWidth, self.sHeight, QColor(0,0,0))\n",
    "        \n",
    "        qp.setPen(Qt.red)\n",
    "        qp.drawEllipse(280, 280, 40, 40)\n",
    "        x, y = move(300, 300, self.angle, 15)\n",
    "        qp.drawEllipse(x-3, y-3, 6, 6)\n",
    "        \n",
    "    def keyPressEvent(self, e):\n",
    "        pressed = e.key()\n",
    "        \n",
    "        if pressed == Qt.Key_Up:\n",
    "            self.angle += 100\n",
    "        \n",
    "    def timerEvent(self, e):\n",
    "        self.angle += 1\n",
    "        self.repaint()\n",
    "\n",
    "if __name__ == '__main__':\n",
    "    app = QApplication(sys.argv)\n",
    "    ex = Example()\n",
    "    sys.exit(app.exec_())"
   ]
  },
  {
   "cell_type": "code",
   "execution_count": null,
   "metadata": {},
   "outputs": [],
   "source": [
    "'''import player\n",
    "bob = player.Robot(100,100, 0, 1,100)\n",
    "for i in range(400):\n",
    "    bob.update(1,0,1,0,0)\n",
    "    if spuds:\n",
    "        for j in spuds:\n",
    "            print(j.x, j.y)\n",
    "    #print(bob.x, bob.y)\n",
    "'''"
   ]
  },
  {
   "cell_type": "code",
   "execution_count": null,
   "metadata": {},
   "outputs": [],
   "source": [
    "\n"
   ]
  }
 ],
 "metadata": {
  "kernelspec": {
   "display_name": "Python 3",
   "language": "python",
   "name": "python3"
  },
  "language_info": {
   "codemirror_mode": {
    "name": "ipython",
    "version": 3
   },
   "file_extension": ".py",
   "mimetype": "text/x-python",
   "name": "python",
   "nbconvert_exporter": "python",
   "pygments_lexer": "ipython3",
   "version": "3.7.1"
  }
 },
 "nbformat": 4,
 "nbformat_minor": 2
}
