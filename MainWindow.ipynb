{
 "cells": [
  {
   "cell_type": "code",
   "execution_count": 1,
   "metadata": {},
   "outputs": [
    {
     "ename": "AttributeError",
     "evalue": "'MainScreen' object has no attribute 'drawPoints'",
     "output_type": "error",
     "traceback": [
      "\u001b[1;31m---------------------------------------------------------------------------\u001b[0m",
      "\u001b[1;31mAttributeError\u001b[0m                            Traceback (most recent call last)",
      "\u001b[1;32m<ipython-input-1-b7c82a951eac>\u001b[0m in \u001b[0;36mpaintEvent\u001b[1;34m(self, e)\u001b[0m\n\u001b[0;32m     62\u001b[0m             \u001b[1;31m#i.\u001b[0m\u001b[1;33m\u001b[0m\u001b[1;33m\u001b[0m\u001b[1;33m\u001b[0m\u001b[0m\n\u001b[0;32m     63\u001b[0m \u001b[1;33m\u001b[0m\u001b[0m\n\u001b[1;32m---> 64\u001b[1;33m         \u001b[0mself\u001b[0m\u001b[1;33m.\u001b[0m\u001b[0mdrawPoints\u001b[0m\u001b[1;33m(\u001b[0m\u001b[0mpainter\u001b[0m\u001b[1;33m)\u001b[0m\u001b[1;33m\u001b[0m\u001b[1;33m\u001b[0m\u001b[0m\n\u001b[0m\u001b[0;32m     65\u001b[0m         \u001b[0mpainter\u001b[0m\u001b[1;33m.\u001b[0m\u001b[0mend\u001b[0m\u001b[1;33m\u001b[0m\u001b[1;33m\u001b[0m\u001b[0m\n\u001b[0;32m     66\u001b[0m \u001b[1;33m\u001b[0m\u001b[0m\n",
      "\u001b[1;31mAttributeError\u001b[0m: 'MainScreen' object has no attribute 'drawPoints'"
     ]
    },
    {
     "ename": "AttributeError",
     "evalue": "'MainScreen' object has no attribute 'drawPoints'",
     "output_type": "error",
     "traceback": [
      "\u001b[1;31m---------------------------------------------------------------------------\u001b[0m",
      "\u001b[1;31mAttributeError\u001b[0m                            Traceback (most recent call last)",
      "\u001b[1;32m<ipython-input-1-b7c82a951eac>\u001b[0m in \u001b[0;36mpaintEvent\u001b[1;34m(self, e)\u001b[0m\n\u001b[0;32m     62\u001b[0m             \u001b[1;31m#i.\u001b[0m\u001b[1;33m\u001b[0m\u001b[1;33m\u001b[0m\u001b[1;33m\u001b[0m\u001b[0m\n\u001b[0;32m     63\u001b[0m \u001b[1;33m\u001b[0m\u001b[0m\n\u001b[1;32m---> 64\u001b[1;33m         \u001b[0mself\u001b[0m\u001b[1;33m.\u001b[0m\u001b[0mdrawPoints\u001b[0m\u001b[1;33m(\u001b[0m\u001b[0mpainter\u001b[0m\u001b[1;33m)\u001b[0m\u001b[1;33m\u001b[0m\u001b[1;33m\u001b[0m\u001b[0m\n\u001b[0m\u001b[0;32m     65\u001b[0m         \u001b[0mpainter\u001b[0m\u001b[1;33m.\u001b[0m\u001b[0mend\u001b[0m\u001b[1;33m\u001b[0m\u001b[1;33m\u001b[0m\u001b[0m\n\u001b[0;32m     66\u001b[0m \u001b[1;33m\u001b[0m\u001b[0m\n",
      "\u001b[1;31mAttributeError\u001b[0m: 'MainScreen' object has no attribute 'drawPoints'"
     ]
    },
    {
     "ename": "AttributeError",
     "evalue": "'MainScreen' object has no attribute 'drawPoints'",
     "output_type": "error",
     "traceback": [
      "\u001b[1;31m---------------------------------------------------------------------------\u001b[0m",
      "\u001b[1;31mAttributeError\u001b[0m                            Traceback (most recent call last)",
      "\u001b[1;32m<ipython-input-1-b7c82a951eac>\u001b[0m in \u001b[0;36mpaintEvent\u001b[1;34m(self, e)\u001b[0m\n\u001b[0;32m     62\u001b[0m             \u001b[1;31m#i.\u001b[0m\u001b[1;33m\u001b[0m\u001b[1;33m\u001b[0m\u001b[1;33m\u001b[0m\u001b[0m\n\u001b[0;32m     63\u001b[0m \u001b[1;33m\u001b[0m\u001b[0m\n\u001b[1;32m---> 64\u001b[1;33m         \u001b[0mself\u001b[0m\u001b[1;33m.\u001b[0m\u001b[0mdrawPoints\u001b[0m\u001b[1;33m(\u001b[0m\u001b[0mpainter\u001b[0m\u001b[1;33m)\u001b[0m\u001b[1;33m\u001b[0m\u001b[1;33m\u001b[0m\u001b[0m\n\u001b[0m\u001b[0;32m     65\u001b[0m         \u001b[0mpainter\u001b[0m\u001b[1;33m.\u001b[0m\u001b[0mend\u001b[0m\u001b[1;33m\u001b[0m\u001b[1;33m\u001b[0m\u001b[0m\n\u001b[0;32m     66\u001b[0m \u001b[1;33m\u001b[0m\u001b[0m\n",
      "\u001b[1;31mAttributeError\u001b[0m: 'MainScreen' object has no attribute 'drawPoints'"
     ]
    },
    {
     "ename": "SystemExit",
     "evalue": "0",
     "output_type": "error",
     "traceback": [
      "An exception has occurred, use %tb to see the full traceback.\n",
      "\u001b[1;31mSystemExit\u001b[0m\u001b[1;31m:\u001b[0m 0\n"
     ]
    },
    {
     "name": "stderr",
     "output_type": "stream",
     "text": [
      "C:\\Users\\herbj\\Anaconda3\\lib\\site-packages\\IPython\\core\\interactiveshell.py:3275: UserWarning: To exit: use 'exit', 'quit', or Ctrl-D.\n",
      "  warn(\"To exit: use 'exit', 'quit', or Ctrl-D.\", stacklevel=1)\n"
     ]
    }
   ],
   "source": [
    "import sys, time\n",
    "from PyQt5.QtGui import QPainter, QColor, QBrush, QPixmap\n",
    "from PyQt5.QtWidgets import (QLineEdit, QSlider, QPushButton, QHBoxLayout, QDesktopWidget,\n",
    "                             QVBoxLayout, QApplication, QWidget, QLabel)\n",
    "from PyQt5.QtCore import Qt, QBasicTimer\n",
    "\n",
    "ai_list = []\n",
    "\n",
    "num_robots = 6\n",
    "num_resources = 50\n",
    "\n",
    "class MainScreen(QWidget):\n",
    "    \n",
    "    # Creating a Method to initialize the main screen\n",
    "    def __init__(self):\n",
    "        super().__init__()\n",
    "        \n",
    "        # Getting the Screen's Pixel dimensions\n",
    "        screen = QDesktopWidget().screenGeometry()\n",
    "        \n",
    "        # Setting the starting locations\n",
    "        self.start_locations = [(40,40),((3*screen.width()/8),40),(((3*screen.width()/4)-40),40),\n",
    "                                (40,((3*screen.height()/4)-40)),((3*screen.width()/8),((3*screen.height()/4)-40)),\n",
    "                                (((3*screen.width()/4)-40),((3*screen.height()/4)-40))]\n",
    "        \n",
    "        self.start_colors = [Qt.red,Qt.green,Qt.blue,Qt.yellow,Qt.white,Qt.darkGray]\n",
    "        \n",
    "        self.sWidth = 3*screen.width()/4\n",
    "        self.sHeight = 3*screen.height()/4\n",
    "        \n",
    "        self.init_ui()\n",
    "        \n",
    "    \n",
    "    def init_ui(self):\n",
    "        \n",
    "        # Setting fixed window Size\n",
    "        self.setWindowTitle('BRAIN')\n",
    "        \n",
    "        # Setting the size of the Battle Field\n",
    "        self.setFixedSize(self.sWidth, self.sHeight)\n",
    "        \n",
    "        # Initializing the robots and resources\n",
    "        #self.populateRobots()\n",
    "        #self.populateResources()\n",
    "        \n",
    "        # Setting up the timer and starting it\n",
    "        self.time = QBasicTimer()\n",
    "        self.time.start(10, self)\n",
    "        \n",
    "        self.show()\n",
    "        \n",
    "    def paintEvent(self, e):\n",
    "        \n",
    "        # Creating the painter and Making the background black\n",
    "        painter = QPainter()\n",
    "        painter.begin(self)\n",
    "        painter.fillRect(0, 0, self.sWidth, self.sHeight, QColor(0,0,0))\n",
    "        \n",
    "        #for i in range(len(self.robot_list)):\n",
    "            #i.\n",
    "        \n",
    "        #self.drawPoints(painter)\n",
    "        \n",
    "        painter.end\n",
    "        \n",
    "        \n",
    "    #def timerEvent(self, e):\n",
    "        \n",
    "    \n",
    "    #def populateRobots():\n",
    "        \n",
    "        #self.robot_list = []\n",
    "        #self.bullets = []\n",
    "        \n",
    "        #for i in range(num_robots):\n",
    "            #self.robot_list.append(robot(start_locations[i,0],start_locations[i,1],start_colors[i],2,1,self.sWidth,self.sHeight,self.bullet_list))\n",
    "\n",
    "    #def populateResources(self):\n",
    "    \n",
    "        #self.resource_list = []\n",
    "        \n",
    "        #for i in range(num_resources):\n",
    "            #self.resource_list = []\n",
    "\n",
    "app = QApplication(sys.argv)\n",
    "a_window = MainScreen()\n",
    "sys.exit(app.exec_())"
   ]
  },
  {
   "cell_type": "code",
   "execution_count": null,
   "metadata": {},
   "outputs": [],
   "source": []
  },
  {
   "cell_type": "code",
   "execution_count": null,
   "metadata": {},
   "outputs": [],
   "source": []
  }
 ],
 "metadata": {
  "kernelspec": {
   "display_name": "Python 3",
   "language": "python",
   "name": "python3"
  },
  "language_info": {
   "codemirror_mode": {
    "name": "ipython",
    "version": 3
   },
   "file_extension": ".py",
   "mimetype": "text/x-python",
   "name": "python",
   "nbconvert_exporter": "python",
   "pygments_lexer": "ipython3",
   "version": "3.7.1"
  }
 },
 "nbformat": 4,
 "nbformat_minor": 2
}
